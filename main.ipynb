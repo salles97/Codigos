{
 "cells": [
  {
   "cell_type": "code",
   "execution_count": null,
   "metadata": {},
   "outputs": [],
   "source": [
    "import psycopg2\n",
    "from config import db_config\n",
    "from deletaPublic import clear_public_geoms\n",
    "from eixo import eixos\n",
    "from logradouro import logradouros\n",
    "from lote import carregar_lote_e_dependencias\n",
    "from quadra import quadras  # Aqui importamos as configurações\n",
    "\n",
    "lotesNovos = []\n",
    "lotesToReviewNovos = []\n",
    "entrega = 'entrega-1-Setor2'\n",
    "\n",
    "\n",
    "def connectDB():\n",
    " \n",
    "    # Aqui utilizamos as configurações importadas\n",
    "    con = psycopg2.connect(host=db_config[\"host\"], \n",
    "                           database=db_config[\"database\"], \n",
    "                           user=db_config[\"user\"], \n",
    "                           password=db_config[\"password\"])\n",
    "    cur = con.cursor()\n",
    "    \n",
    "    print(\"============ LOGRADOUROS =============\")\n",
    "    logradouros(cur)\n",
    "    print(\"============ EIXOS =============\")\n",
    "    eixos(cur)\n",
    "    print(\"============ QUADRAS =============\")\n",
    "    quadras(cur) \n",
    "\n",
    "    carregar_lote_e_dependencias(con, cur)\n",
    "    \n",
    "    clear_public_geoms(cur)\n",
    "    # print(\"============ EIXO - LOTE =============\")\n",
    "    # gerar_eixo_lote(cur)  \n",
    "\n",
    "    # print(\"============ VALIDACOES =============\")\n",
    "    # validacao_cadastral(cur)\n",
    "    # validacao_geometrica(cur)\n",
    "  \n",
    "\n",
    "    # con.rollback()\n",
    "    con.commit()\n",
    "    con.close()"
   ]
  }
 ],
 "metadata": {
  "language_info": {
   "name": "python"
  },
  "orig_nbformat": 4
 },
 "nbformat": 4,
 "nbformat_minor": 2
}
