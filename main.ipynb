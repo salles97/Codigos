{
 "cells": [
  {
   "cell_type": "code",
   "execution_count": 2,
   "metadata": {},
   "outputs": [
    {
     "name": "stdout",
     "output_type": "stream",
     "text": [
      "============ AREAS ESPECIAIS ============\n"
     ]
    }
   ],
   "source": [
    "import psycopg2\n",
    "from psycopg2 import extras\n",
    "from area_especial import area_especial\n",
    "from nome_arquivo import setor_carga\n",
    "from config import db_config\n",
    "from deletaPublic import clear_public_geoms\n",
    "from eixo import eixos\n",
    "from logradouro import logradouros\n",
    "from lote import carregar_lote_e_dependencias\n",
    "from quadra import quadras\n",
    "from validacoes import validacoes_pos_carga, validacoes_pre_carga  # Aqui importamos as configurações\n",
    "\n",
    "lotesNovos = []\n",
    "lotesToReviewNovos = []\n",
    "# entrega = 'entrega-1-Setor2'\n",
    "\n",
    "\n",
    " \n",
    "def connectDB():\n",
    "    global setor_carga\n",
    "    setor_carga = input(\"Nome da carga: \")\n",
    "    # Aqui utilizamos as configurações importadas\n",
    "    con = psycopg2.connect(host=db_config[\"host\"], \n",
    "                           database=db_config[\"database\"], \n",
    "                           user=db_config[\"user\"], \n",
    "                           password=db_config[\"password\"])\n",
    "    # cur = con.cursor()\n",
    "    cur = con.cursor(cursor_factory=psycopg2.extras.DictCursor)\n",
    "\n",
    "    # print(\"-------Validações pré carga-------\")\n",
    "    # validacoes_pre_carga(cur)\n",
    "    \n",
    "    # print(\"============ LOGRADOUROS =============\")\n",
    "    # logradouros(cur)\n",
    "    # print(\"============ EIXOS =============\")\n",
    "    # eixos(cur)\n",
    "    # print(\"============ QUADRAS =============\")\n",
    "    # quadras(cur) \n",
    "\n",
    "    carregar_lote_e_dependencias(con, cur) \n",
    "    \n",
    "    print(\"============ AREAS ESPECIAIS ============\")\n",
    "    area_especial(cur)\n",
    "\n",
    "    # validacoes_pos_carga(cur)\n",
    "    # clear_public_geoms(cur)\n",
    "    \n",
    "    \n",
    "    # print(\"============ EIXO - LOTE =============\")\n",
    "    # gerar_eixo_lote(cur)  \n",
    "\n",
    "    # print(\"============ VALIDACOES =============\")\n",
    "    # validacao_cadastral(cur)\n",
    "    # validacao_geometrica(cur)\n",
    "  \n",
    "\n",
    "    # con.rollback()\n",
    "    con.commit()\n",
    "    con.close()\n",
    "    \n",
    "connectDB()"
   ]
  }
 ],
 "metadata": {
  "kernelspec": {
   "display_name": "Python 3",
   "language": "python",
   "name": "python3"
  },
  "language_info": {
   "codemirror_mode": {
    "name": "ipython",
    "version": 3
   },
   "file_extension": ".py",
   "mimetype": "text/x-python",
   "name": "python",
   "nbconvert_exporter": "python",
   "pygments_lexer": "ipython3",
   "version": "3.10.6"
  },
  "orig_nbformat": 4
 },
 "nbformat": 4,
 "nbformat_minor": 2
}
